{
 "cells": [
  {
   "cell_type": "markdown",
   "id": "a6849127-f3f4-408f-8342-d5a9407b2cf3",
   "metadata": {},
   "source": [
    "# 8.9 Self Check, splitting and joining strings"
   ]
  },
  {
   "cell_type": "code",
   "execution_count": 1,
   "id": "10c3e60d-d6ac-4720-8b6c-ad69f4328eb2",
   "metadata": {},
   "outputs": [
    {
     "data": {
      "text/plain": [
       "'White, Pamela'"
      ]
     },
     "execution_count": 1,
     "metadata": {},
     "output_type": "execute_result"
    }
   ],
   "source": [
    "', '.join(reversed('Pamela White'.split()))\n"
   ]
  },
  {
   "cell_type": "code",
   "execution_count": 2,
   "id": "4c4a6f34-84ff-41db-ab85-1fa868e72097",
   "metadata": {},
   "outputs": [
    {
     "data": {
      "text/plain": [
       "'www.deitel.com'"
      ]
     },
     "execution_count": 2,
     "metadata": {},
     "output_type": "execute_result"
    }
   ],
   "source": [
    "url = 'http://www.deitel.com/books/PyCDS/table_of_contents.html'\n",
    "protocol, separator,rest_of_url = url.partition('://')\n",
    "host, operator, document_with_path = rest_of_url.partition('/')\n",
    "host"
   ]
  },
  {
   "cell_type": "code",
   "execution_count": 3,
   "id": "da640e3a-1a46-49fc-ab85-8734f5f7f41d",
   "metadata": {},
   "outputs": [],
   "source": [
    "path, separator, document = document_with_path.rpartition('/')"
   ]
  },
  {
   "cell_type": "code",
   "execution_count": 4,
   "id": "7f1cbefc-0157-411f-8d1b-41bd996bd096",
   "metadata": {},
   "outputs": [
    {
     "data": {
      "text/plain": [
       "'books/PyCDS'"
      ]
     },
     "execution_count": 4,
     "metadata": {},
     "output_type": "execute_result"
    }
   ],
   "source": [
    "path"
   ]
  },
  {
   "cell_type": "markdown",
   "id": "8e425d5f-57c6-48f6-b9e6-67fb5468d5db",
   "metadata": {},
   "source": [
    "# 8.12 Self Check, regular expressions"
   ]
  },
  {
   "cell_type": "code",
   "execution_count": 6,
   "id": "c8b60781-4431-440c-8cf1-fa615c1c3f67",
   "metadata": {},
   "outputs": [
    {
     "data": {
      "text/plain": [
       "'Match'"
      ]
     },
     "execution_count": 6,
     "metadata": {},
     "output_type": "execute_result"
    }
   ],
   "source": [
    "import re\n",
    "street = r'\\d+ [A-Z][a-z]* [A-Z][a-z]*'\n",
    "'Match' if re.fullmatch(street, '123 Main Street') else 'No Match'"
   ]
  },
  {
   "cell_type": "code",
   "execution_count": 7,
   "id": "4a3132f5-2aea-4081-a21f-4e6a527cf61d",
   "metadata": {},
   "outputs": [
    {
     "data": {
      "text/plain": [
       "'No Match'"
      ]
     },
     "execution_count": 7,
     "metadata": {},
     "output_type": "execute_result"
    }
   ],
   "source": [
    "street = r'\\d+ [A-Z][a-z]* [A-Z][a-z]*'\n",
    "'Match' if re.fullmatch(street, 'Main Street') else 'No Match'"
   ]
  },
  {
   "cell_type": "markdown",
   "id": "2cec8535-8bf3-4086-8b1d-71fc8f2e84d1",
   "metadata": {},
   "source": [
    "# 8.12.2 Self Check"
   ]
  },
  {
   "cell_type": "code",
   "execution_count": 8,
   "id": "3865547b-2c24-4c9a-b217-939f70c3f8f0",
   "metadata": {},
   "outputs": [
    {
     "data": {
      "text/plain": [
       "'A, B, C, D'"
      ]
     },
     "execution_count": 8,
     "metadata": {},
     "output_type": "execute_result"
    }
   ],
   "source": [
    "import re\n",
    "re.sub(r'\\t+', ', ', 'A\\tB\\tC\\t\\t\\tD')"
   ]
  },
  {
   "cell_type": "code",
   "execution_count": 9,
   "id": "33239d9d-b534-4f27-a147-34291694b0a1",
   "metadata": {},
   "outputs": [
    {
     "data": {
      "text/plain": [
       "['123', 'Main', 'Street']"
      ]
     },
     "execution_count": 9,
     "metadata": {},
     "output_type": "execute_result"
    }
   ],
   "source": [
    "re.split('\\$+', '123$Main$$Street')"
   ]
  },
  {
   "cell_type": "markdown",
   "id": "82a1ffce-3653-476e-9d29-13d7a9221a36",
   "metadata": {},
   "source": [
    "# 8.12.3 Self Check"
   ]
  },
  {
   "cell_type": "code",
   "execution_count": 12,
   "id": "e455ae31-9398-47b1-8928-aaf111edb8de",
   "metadata": {},
   "outputs": [
    {
     "data": {
      "text/plain": [
       "('10', '+', '5')"
      ]
     },
     "execution_count": 12,
     "metadata": {},
     "output_type": "execute_result"
    }
   ],
   "source": [
    "import re\n",
    "result = re.search(r'(\\d+) ([-+*/]) (\\d+)', '10 + 5')\n",
    "result.groups()"
   ]
  },
  {
   "cell_type": "code",
   "execution_count": 14,
   "id": "2f8d544d-71b8-4faf-abc6-dea69436b008",
   "metadata": {},
   "outputs": [
    {
     "data": {
      "text/plain": [
       "'10'"
      ]
     },
     "execution_count": 14,
     "metadata": {},
     "output_type": "execute_result"
    }
   ],
   "source": [
    "result.group(1)\n"
   ]
  },
  {
   "cell_type": "code",
   "execution_count": 15,
   "id": "8073f42d-907c-4a8d-a3e5-5ff75a55a9ca",
   "metadata": {},
   "outputs": [
    {
     "data": {
      "text/plain": [
       "'+'"
      ]
     },
     "execution_count": 15,
     "metadata": {},
     "output_type": "execute_result"
    }
   ],
   "source": [
    "result.group(2)"
   ]
  },
  {
   "cell_type": "code",
   "execution_count": 16,
   "id": "45203d34-d027-4dd8-a217-1df1d1d4429e",
   "metadata": {},
   "outputs": [
    {
     "data": {
      "text/plain": [
       "'5'"
      ]
     },
     "execution_count": 16,
     "metadata": {},
     "output_type": "execute_result"
    }
   ],
   "source": [
    "result.group(3)"
   ]
  },
  {
   "cell_type": "code",
   "execution_count": null,
   "id": "7c8b898a-9e8e-47b4-bad0-5db29427a14b",
   "metadata": {},
   "outputs": [],
   "source": []
  }
 ],
 "metadata": {
  "kernelspec": {
   "display_name": "Python 3 (ipykernel)",
   "language": "python",
   "name": "python3"
  },
  "language_info": {
   "codemirror_mode": {
    "name": "ipython",
    "version": 3
   },
   "file_extension": ".py",
   "mimetype": "text/x-python",
   "name": "python",
   "nbconvert_exporter": "python",
   "pygments_lexer": "ipython3",
   "version": "3.9.12"
  }
 },
 "nbformat": 4,
 "nbformat_minor": 5
}
