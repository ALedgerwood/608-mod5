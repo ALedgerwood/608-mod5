{
 "cells": [
  {
   "cell_type": "markdown",
   "id": "949b2c11-01d3-4747-a1d1-583717ab0ab5",
   "metadata": {},
   "source": [
    "# 7.8 Self Check"
   ]
  },
  {
   "cell_type": "code",
   "execution_count": 8,
   "id": "6a5a174f-ea3b-42e1-8144-2c001a5bb624",
   "metadata": {},
   "outputs": [],
   "source": [
    "import numpy as np"
   ]
  },
  {
   "cell_type": "code",
   "execution_count": 9,
   "id": "48883c59-6173-4193-8dcc-673ecfc8cb9e",
   "metadata": {},
   "outputs": [],
   "source": [
    "grades = np.random.randint(60, 101, 12).reshape(3, 4)"
   ]
  },
  {
   "cell_type": "code",
   "execution_count": 10,
   "id": "2a46cf19-cea5-43a3-b9a5-086c0c1fef24",
   "metadata": {},
   "outputs": [
    {
     "data": {
      "text/plain": [
       "array([[86, 60, 85, 79],\n",
       "       [84, 93, 86, 86],\n",
       "       [88, 86, 74, 88]])"
      ]
     },
     "execution_count": 10,
     "metadata": {},
     "output_type": "execute_result"
    }
   ],
   "source": [
    "grades"
   ]
  },
  {
   "cell_type": "code",
   "execution_count": 11,
   "id": "d41cd121-3521-4500-9168-0ac1cb41b931",
   "metadata": {},
   "outputs": [
    {
     "data": {
      "text/plain": [
       "82.91666666666667"
      ]
     },
     "execution_count": 11,
     "metadata": {},
     "output_type": "execute_result"
    }
   ],
   "source": [
    "grades.mean()"
   ]
  },
  {
   "cell_type": "code",
   "execution_count": 12,
   "id": "61c018f1-1177-40c8-b147-9abef7215a6c",
   "metadata": {},
   "outputs": [
    {
     "data": {
      "text/plain": [
       "array([86.        , 79.66666667, 81.66666667, 84.33333333])"
      ]
     },
     "execution_count": 12,
     "metadata": {},
     "output_type": "execute_result"
    }
   ],
   "source": [
    "grades.mean(axis=0)"
   ]
  },
  {
   "cell_type": "code",
   "execution_count": 13,
   "id": "ff84d21c-eff6-439e-bf86-7efe8465fae3",
   "metadata": {},
   "outputs": [
    {
     "data": {
      "text/plain": [
       "array([77.5 , 87.25, 84.  ])"
      ]
     },
     "execution_count": 13,
     "metadata": {},
     "output_type": "execute_result"
    }
   ],
   "source": [
    "grades.mean(axis=1)"
   ]
  },
  {
   "cell_type": "markdown",
   "id": "4ab92b7f-7d5d-4856-8f3c-2f2924d40633",
   "metadata": {},
   "source": [
    "# 7.9 Self Check"
   ]
  },
  {
   "cell_type": "code",
   "execution_count": 14,
   "id": "5e43d47c-b963-4071-b9b2-3770e2b0becd",
   "metadata": {},
   "outputs": [],
   "source": [
    "import numpy as np"
   ]
  },
  {
   "cell_type": "code",
   "execution_count": 18,
   "id": "0b9e0c07-5abd-46bd-a980-631e462c56dc",
   "metadata": {},
   "outputs": [],
   "source": [
    "numbers = np.arange(1, 6)"
   ]
  },
  {
   "cell_type": "code",
   "execution_count": 19,
   "id": "4db4ba77-4dc7-493e-b32f-b2ae81acfbf2",
   "metadata": {},
   "outputs": [
    {
     "data": {
      "text/plain": [
       "array([  1,   8,  27,  64, 125], dtype=int32)"
      ]
     },
     "execution_count": 19,
     "metadata": {},
     "output_type": "execute_result"
    }
   ],
   "source": [
    "np.power(numbers, 3)"
   ]
  },
  {
   "cell_type": "markdown",
   "id": "78e3f19d-6002-4f11-8e3d-9e72f24e8ea7",
   "metadata": {},
   "source": [
    "# 7.10 Self Check"
   ]
  },
  {
   "cell_type": "code",
   "execution_count": 20,
   "id": "ab31eea7-9620-4af0-96c5-7b5059528ba6",
   "metadata": {},
   "outputs": [],
   "source": [
    "import numpy as np"
   ]
  },
  {
   "cell_type": "code",
   "execution_count": 22,
   "id": "8f506ec9-aac0-4e1e-a2b2-4c53ef10e07c",
   "metadata": {},
   "outputs": [],
   "source": [
    "a = np.arange(1, 16).reshape(3, 5)"
   ]
  },
  {
   "cell_type": "code",
   "execution_count": 23,
   "id": "1d5ef697-8849-4507-abb2-4f69065b5869",
   "metadata": {},
   "outputs": [
    {
     "data": {
      "text/plain": [
       "array([[ 1,  2,  3,  4,  5],\n",
       "       [ 6,  7,  8,  9, 10],\n",
       "       [11, 12, 13, 14, 15]])"
      ]
     },
     "execution_count": 23,
     "metadata": {},
     "output_type": "execute_result"
    }
   ],
   "source": [
    "a"
   ]
  },
  {
   "cell_type": "code",
   "execution_count": 24,
   "id": "12b0fd9b-b846-4169-bbf3-c88abc7753bd",
   "metadata": {},
   "outputs": [
    {
     "data": {
      "text/plain": [
       "array([ 6,  7,  8,  9, 10])"
      ]
     },
     "execution_count": 24,
     "metadata": {},
     "output_type": "execute_result"
    }
   ],
   "source": [
    "a[1]"
   ]
  },
  {
   "cell_type": "code",
   "execution_count": 27,
   "id": "37834577-74c2-4f1f-b5dc-61de5aee352c",
   "metadata": {},
   "outputs": [
    {
     "data": {
      "text/plain": [
       "array([[ 1,  2,  3,  4,  5],\n",
       "       [11, 12, 13, 14, 15]])"
      ]
     },
     "execution_count": 27,
     "metadata": {},
     "output_type": "execute_result"
    }
   ],
   "source": [
    "a[[0, 2]]"
   ]
  },
  {
   "cell_type": "code",
   "execution_count": 29,
   "id": "758d45bd-874d-4e9c-ad04-ec5b175a1065",
   "metadata": {},
   "outputs": [
    {
     "data": {
      "text/plain": [
       "array([[ 2,  3,  4],\n",
       "       [ 7,  8,  9],\n",
       "       [12, 13, 14]])"
      ]
     },
     "execution_count": 29,
     "metadata": {},
     "output_type": "execute_result"
    }
   ],
   "source": [
    "a[:, 1:4]"
   ]
  },
  {
   "cell_type": "markdown",
   "id": "93cad026-c4c6-4f44-b6e6-50f40323640e",
   "metadata": {},
   "source": [
    "# 7.13 Self Check"
   ]
  },
  {
   "cell_type": "code",
   "execution_count": 31,
   "id": "08c75f9e-7ec5-45aa-a19d-b27bd8e68736",
   "metadata": {},
   "outputs": [],
   "source": [
    "a = np.arange(1, 7).reshape(2, 3)"
   ]
  },
  {
   "cell_type": "code",
   "execution_count": 32,
   "id": "17bb9916-14d0-4acb-9e60-7205aea8425e",
   "metadata": {},
   "outputs": [],
   "source": [
    "a = np.hstack((a, a))"
   ]
  },
  {
   "cell_type": "code",
   "execution_count": 33,
   "id": "ba16cf54-b31a-4515-bba5-338431e6040d",
   "metadata": {},
   "outputs": [],
   "source": [
    "a = np.vstack((a, a))"
   ]
  },
  {
   "cell_type": "code",
   "execution_count": 34,
   "id": "c4d5eab3-653c-4850-b6ba-559117e6746e",
   "metadata": {},
   "outputs": [
    {
     "data": {
      "text/plain": [
       "array([[1, 2, 3, 1, 2, 3],\n",
       "       [4, 5, 6, 4, 5, 6],\n",
       "       [1, 2, 3, 1, 2, 3],\n",
       "       [4, 5, 6, 4, 5, 6]])"
      ]
     },
     "execution_count": 34,
     "metadata": {},
     "output_type": "execute_result"
    }
   ],
   "source": [
    "a"
   ]
  },
  {
   "cell_type": "code",
   "execution_count": null,
   "id": "1bb9d6c8-d534-4c04-9ed1-15c63e71a2f2",
   "metadata": {},
   "outputs": [],
   "source": []
  }
 ],
 "metadata": {
  "kernelspec": {
   "display_name": "Python 3 (ipykernel)",
   "language": "python",
   "name": "python3"
  },
  "language_info": {
   "codemirror_mode": {
    "name": "ipython",
    "version": 3
   },
   "file_extension": ".py",
   "mimetype": "text/x-python",
   "name": "python",
   "nbconvert_exporter": "python",
   "pygments_lexer": "ipython3",
   "version": "3.9.12"
  }
 },
 "nbformat": 4,
 "nbformat_minor": 5
}
