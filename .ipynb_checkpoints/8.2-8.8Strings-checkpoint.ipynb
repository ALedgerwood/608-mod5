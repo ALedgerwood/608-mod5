{
 "cells": [
  {
   "cell_type": "markdown",
   "id": "3b0d401d-9b63-452c-ac21-b15c43cf6ba8",
   "metadata": {},
   "source": [
    "# 8.2 Self Check, character codes"
   ]
  },
  {
   "cell_type": "code",
   "execution_count": 1,
   "id": "81ac037c-b5b8-4190-8ac9-3a49c9dba029",
   "metadata": {},
   "outputs": [
    {
     "name": "stdout",
     "output_type": "stream",
     "text": [
      ":-)\n"
     ]
    }
   ],
   "source": [
    "print(f'{58:c}{45:c}{41:c}')"
   ]
  },
  {
   "cell_type": "markdown",
   "id": "ee6206d0-29b1-4662-b1f3-1943a6b07936",
   "metadata": {},
   "source": [
    "# 8.2.2 Self Check, wdiths and alignments"
   ]
  },
  {
   "cell_type": "code",
   "execution_count": 5,
   "id": "2b4d6533-a066-435f-a90c-148c239dcd7f",
   "metadata": {},
   "outputs": [
    {
     "name": "stdout",
     "output_type": "stream",
     "text": [
      "[    Amanda]\n",
      "[  Amanda  ]\n",
      "[Amanda    ]\n"
     ]
    }
   ],
   "source": [
    "print(f'[{\"Amanda\":>10}]\\n[{\"Amanda\":^10}]\\n[{\"Amanda\":<10}]')"
   ]
  },
  {
   "cell_type": "markdown",
   "id": "5d8580ff-e3bd-45a1-93c0-90171aab8278",
   "metadata": {},
   "source": [
    "# 8.2.3 Self Check, numeric formatting"
   ]
  },
  {
   "cell_type": "code",
   "execution_count": 6,
   "id": "0c3b3bd5-da63-47fa-b0c3-c060da9dc653",
   "metadata": {},
   "outputs": [
    {
     "name": "stdout",
     "output_type": "stream",
     "text": [
      "+10,240.47\n",
      " -3,210.95\n"
     ]
    }
   ],
   "source": [
    "print(f'{10240.473:+10,.2f}\\n{-3210.9521:+10,.2f}')"
   ]
  },
  {
   "cell_type": "markdown",
   "id": "2392bc74-c96f-46d5-8314-4effcdf5bcf5",
   "metadata": {},
   "source": [
    "# 8.2.4 Self Check, string format method"
   ]
  },
  {
   "cell_type": "code",
   "execution_count": 7,
   "id": "65026f53-e489-4292-acbf-2ac8fce55425",
   "metadata": {},
   "outputs": [
    {
     "name": "stdout",
     "output_type": "stream",
     "text": [
      "+10,240.47\n",
      " -3,210.95\n"
     ]
    }
   ],
   "source": [
    "print('{:+10,.2f}\\n{:+10,.2f}'.format(10240.473, -3210.9521))"
   ]
  },
  {
   "cell_type": "markdown",
   "id": "19841648-9a04-41d0-875f-bc4f8ce87041",
   "metadata": {},
   "source": [
    "# 8.3 Self Check, Concatenating and Repeating Strings"
   ]
  },
  {
   "cell_type": "code",
   "execution_count": 11,
   "id": "4de0be7c-6538-4b75-b1d6-d709ae4532ed",
   "metadata": {},
   "outputs": [
    {
     "name": "stdout",
     "output_type": "stream",
     "text": [
      "*********\n",
      "Pam Black\n",
      "*********\n"
     ]
    }
   ],
   "source": [
    "name = 'Pam'\n",
    "name += ' Black'\n",
    "bar = '*'\n",
    "bar *= len(name)\n",
    "print(f'{bar}\\n{name}\\n{bar}')"
   ]
  },
  {
   "cell_type": "markdown",
   "id": "d2a569b8-ed58-4e0d-a447-348a2ee04e29",
   "metadata": {},
   "source": [
    "# 8.4 Self Check, stripping white space"
   ]
  },
  {
   "cell_type": "code",
   "execution_count": 13,
   "id": "722022f3-8a94-41cd-877f-9bcbdd636cb8",
   "metadata": {},
   "outputs": [
    {
     "data": {
      "text/plain": [
       "'Margo Magenta'"
      ]
     },
     "execution_count": 13,
     "metadata": {},
     "output_type": "execute_result"
    }
   ],
   "source": [
    "name = '     Margo Magenta    '\n",
    "name.strip()"
   ]
  },
  {
   "cell_type": "code",
   "execution_count": 14,
   "id": "845e5704-11ab-49b6-bf70-4badc8f92868",
   "metadata": {},
   "outputs": [
    {
     "data": {
      "text/plain": [
       "'Margo Magenta    '"
      ]
     },
     "execution_count": 14,
     "metadata": {},
     "output_type": "execute_result"
    }
   ],
   "source": [
    "name.lstrip()"
   ]
  },
  {
   "cell_type": "code",
   "execution_count": 15,
   "id": "f4ba08cb-b332-439e-af35-ce2526b0324a",
   "metadata": {},
   "outputs": [
    {
     "data": {
      "text/plain": [
       "'     Margo Magenta'"
      ]
     },
     "execution_count": 15,
     "metadata": {},
     "output_type": "execute_result"
    }
   ],
   "source": [
    "name.rstrip()"
   ]
  },
  {
   "cell_type": "markdown",
   "id": "dfbc6839-dca2-4a1d-b2bb-3234c04ee065",
   "metadata": {},
   "source": [
    "# 8.5 Self Check, changing case"
   ]
  },
  {
   "cell_type": "code",
   "execution_count": 16,
   "id": "598b2395-5e7d-4c81-9e70-f1cfc32fc985",
   "metadata": {},
   "outputs": [
    {
     "data": {
      "text/plain": [
       "'Happy birthday'"
      ]
     },
     "execution_count": 16,
     "metadata": {},
     "output_type": "execute_result"
    }
   ],
   "source": [
    "'happy birthday'.capitalize()"
   ]
  },
  {
   "cell_type": "raw",
   "id": "329c7ee3-bf98-44ff-aa7d-ab280005486f",
   "metadata": {},
   "source": [
    "'strings: a deeper look'.title()"
   ]
  },
  {
   "cell_type": "code",
   "execution_count": null,
   "id": "256d2ce6-948d-4099-b8b5-74c217fce95b",
   "metadata": {},
   "outputs": [],
   "source": [
    "# that didn't do anything for some reason, let me try another idea"
   ]
  },
  {
   "cell_type": "code",
   "execution_count": 17,
   "id": "53827e0b-40a6-429f-8537-850d5a67a984",
   "metadata": {},
   "outputs": [
    {
     "data": {
      "text/plain": [
       "'Strings: A Deeper Look'"
      ]
     },
     "execution_count": 17,
     "metadata": {},
     "output_type": "execute_result"
    }
   ],
   "source": [
    "from string import capwords\n",
    "title = 'strings: a deeper look'\n",
    "capwords(title)"
   ]
  },
  {
   "cell_type": "code",
   "execution_count": null,
   "id": "0f4dcee1-a98a-4023-be9e-cc70e4f84511",
   "metadata": {},
   "outputs": [],
   "source": [
    "# got that idea from stackoverflow"
   ]
  },
  {
   "cell_type": "code",
   "execution_count": 20,
   "id": "cae68f78-a223-4ad8-93d9-5a634a486ccc",
   "metadata": {},
   "outputs": [
    {
     "data": {
      "text/plain": [
       "'Happy new year'"
      ]
     },
     "execution_count": 20,
     "metadata": {},
     "output_type": "execute_result"
    }
   ],
   "source": [
    "test_string = 'happy new year'\n",
    "test_string.capitalize()\n"
   ]
  },
  {
   "cell_type": "code",
   "execution_count": 21,
   "id": "d2c16b03-e72a-4c55-a673-a0c300729291",
   "metadata": {},
   "outputs": [
    {
     "data": {
      "text/plain": [
       "'Happy New Year'"
      ]
     },
     "execution_count": 21,
     "metadata": {},
     "output_type": "execute_result"
    }
   ],
   "source": [
    "capwords(test_string)"
   ]
  },
  {
   "cell_type": "markdown",
   "id": "abf3cea4-3265-425e-97d4-ac925049ccc1",
   "metadata": {},
   "source": [
    "# 8.7 Self Check"
   ]
  },
  {
   "cell_type": "code",
   "execution_count": 23,
   "id": "30bd1a68-0698-4668-971c-059ad57bd1b2",
   "metadata": {},
   "outputs": [
    {
     "name": "stdout",
     "output_type": "stream",
     "text": [
      "to to that the "
     ]
    }
   ],
   "source": [
    "for word in 'to be or not to be that is the question'.split():\n",
    "    if word.startswith('t'):\n",
    "        print(word, end=' ')"
   ]
  },
  {
   "cell_type": "markdown",
   "id": "5c55986d-9a31-4321-90c3-5558ae4e6bda",
   "metadata": {},
   "source": [
    "# 8.8 Self Check"
   ]
  },
  {
   "cell_type": "code",
   "execution_count": 26,
   "id": "0bc3f770-63e4-4e3d-9b80-026228685e7d",
   "metadata": {},
   "outputs": [
    {
     "data": {
      "text/plain": [
       "'1 --> 2 --> 3 --> 4 --> 5'"
      ]
     },
     "execution_count": 26,
     "metadata": {},
     "output_type": "execute_result"
    }
   ],
   "source": [
    "'1 2 3 4 5'.replace(' ', ' --> ')"
   ]
  },
  {
   "cell_type": "code",
   "execution_count": null,
   "id": "e655679c-e56e-4bd0-bcf4-edfa5dac588c",
   "metadata": {},
   "outputs": [],
   "source": []
  }
 ],
 "metadata": {
  "kernelspec": {
   "display_name": "Python 3 (ipykernel)",
   "language": "python",
   "name": "python3"
  },
  "language_info": {
   "codemirror_mode": {
    "name": "ipython",
    "version": 3
   },
   "file_extension": ".py",
   "mimetype": "text/x-python",
   "name": "python",
   "nbconvert_exporter": "python",
   "pygments_lexer": "ipython3",
   "version": "3.9.12"
  }
 },
 "nbformat": 4,
 "nbformat_minor": 5
}
